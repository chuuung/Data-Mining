{
 "cells": [
  {
   "cell_type": "code",
   "execution_count": 1,
   "metadata": {},
   "outputs": [],
   "source": [
    "import pandas as pd\n",
    "import numpy as np\n",
    "from sklearn.metrics import confusion_matrix, precision_score, accuracy_score, recall_score, f1_score\n",
    "import xgboost as xgb"
   ]
  },
  {
   "cell_type": "code",
   "execution_count": 2,
   "metadata": {},
   "outputs": [],
   "source": [
    "data = pd.read_csv(\"新竹_2020.csv\", encoding = 'gb18030')\n",
    "data = data.iloc[1:,:]\n",
    "\n",
    "#擷取月份出來\n",
    "all_time_month = []\n",
    "for i in range(data.shape[0]): \n",
    "    str1 = data.iloc[i,1]\n",
    "    time_month = int(str1.split(\"/\")[1])\n",
    "    all_time_month.append(time_month)\n",
    "    \n",
    "#合併到原資料\n",
    "all_time_month = pd.DataFrame(all_time_month,columns = [\"month\"])\n",
    "all_time_month.index = all_time_month.index + 1\n",
    "data_month = pd.concat([data, all_time_month], axis = 1)"
   ]
  },
  {
   "cell_type": "code",
   "execution_count": 3,
   "metadata": {},
   "outputs": [],
   "source": [
    "#擷取10、11、12月份資料\n",
    "data_extract = pd.DataFrame()\n",
    "for i in (10,11,12):\n",
    "    for j in (np.where(data_month[\"month\"] == i)):\n",
    "        data_extract = pd.concat([data_extract, data_month.iloc[j][:]])\n",
    "data_extract_month = data_extract[\"month\"]\n",
    "data_extract = data_extract.iloc[:, 2:data_extract.shape[1]-1]"
   ]
  },
  {
   "cell_type": "code",
   "execution_count": 4,
   "metadata": {},
   "outputs": [],
   "source": [
    "#補遺失值 將字串空格消除\n",
    "for i in range(data_extract.shape[1]):\n",
    "    for j in range(data_extract.shape[0]):\n",
    "        data_extract.iloc[j,i] = data_extract.iloc[j,i].split(\" \")[0]"
   ]
  },
  {
   "cell_type": "code",
   "execution_count": 5,
   "metadata": {},
   "outputs": [],
   "source": [
    "#1代表是遺失值\n",
    "def check_miss(row, col):\n",
    "    flag = 0\n",
    "    miss = [\"#\", \"*\", \"x\", \"A\", \" \"]\n",
    "    for i in range(len(miss)):\n",
    "        if data_extract.iloc[row,col] == miss[i] :\n",
    "            flag = 1\n",
    "            break\n",
    "    return flag"
   ]
  },
  {
   "cell_type": "code",
   "execution_count": 6,
   "metadata": {},
   "outputs": [],
   "source": [
    "#全部都是遺失值的都變0\n",
    "for i in range(data_extract.shape[0]):\n",
    "    total = 0\n",
    "    for j in range(1,data_extract.shape[1]):\n",
    "        if (check_miss(i,j) == 1):\n",
    "            total += 1\n",
    "    if total == data_extract.shape[1] - 1:\n",
    "        for j in range(1,data_extract.shape[1]):\n",
    "            data_extract.iloc[i,j] = 0"
   ]
  },
  {
   "cell_type": "code",
   "execution_count": 7,
   "metadata": {},
   "outputs": [],
   "source": [
    "for i in range(data_extract.shape[0]):\n",
    "    for j in range(1,data_extract.shape[1]):\n",
    "        if check_miss(i,j) == 1:\n",
    "            if j == 1 : #第一行 從第二行開始看如果後面還是遺失值就一直往後\n",
    "                count = 2\n",
    "                while(count < data_extract.shape[1] and check_miss(i,count) == 1):\n",
    "                    count += 1\n",
    "                data_extract.iloc[i,j] = data_extract.iloc[i, count]\n",
    "            elif j == data_extract.shape[1] - 1: #代表最後一行\n",
    "                count = data_extract.shape[1] - 2\n",
    "                while(count > 1 and check_miss(i,count) == 1):\n",
    "                    count -= 1\n",
    "                data_extract.iloc[i,j] = data_extract.iloc[i, count]\n",
    "            else: #代表中間的行\n",
    "                front = j - 1\n",
    "                back = j + 1\n",
    "                while(check_miss(i, front) == 1):\n",
    "                    front -= 1\n",
    "                while(back < data_extract.shape[1] and check_miss(i, back) == 1): #要有保護機制不能超過最後一行\n",
    "                    back += 1\n",
    "                if (back == data_extract.shape[1]):\n",
    "                    data_extract.iloc[i,j] = data_extract.iloc[i,front]\n",
    "                else :\n",
    "                    data_extract.iloc[i,j] = (float(data_extract.iloc[i,front]) + float(data_extract.iloc[i,back])) / 2.0\n",
    "                    "
   ]
  },
  {
   "cell_type": "code",
   "execution_count": 8,
   "metadata": {},
   "outputs": [],
   "source": [
    "#把全部值都轉成數字\n",
    "data_final = pd.concat([data_extract, data_extract_month], axis = 1)\n",
    "for i in range(data_extract.shape[0]):\n",
    "    for j in range(1,data_extract.shape[1]):\n",
    "        data_final.iloc[i,j] = float(data_final.iloc[i,j])\n",
    "        "
   ]
  },
  {
   "cell_type": "code",
   "execution_count": 9,
   "metadata": {},
   "outputs": [],
   "source": [
    "#切資料\n",
    "month12 = np.where(data_final['month'] == 12)[0][0] #12月的初始位置\n",
    "data_train = data_final.iloc[:month12, :data_final.shape[1] - 1]\n",
    "data_test = data_final.iloc[month12:, :data_final.shape[1] - 1]"
   ]
  },
  {
   "cell_type": "code",
   "execution_count": 10,
   "metadata": {},
   "outputs": [],
   "source": [
    "#train data的轉置\n",
    "data_train_trans = data_train.iloc[0:18,:]\n",
    "data_train_trans = data_train_trans.reset_index().drop(['index'],axis = 1)\n",
    "times = int(data_train.shape[0] / 18) - 1\n",
    "\n",
    "for i in range(times):\n",
    "    start = 18\n",
    "    data_temp = data_train.iloc[start:start + 18, 1:]\n",
    "    data_temp = data_temp.reset_index().drop(['index'],axis = 1)\n",
    "    data_train_trans = pd.concat([data_train_trans, data_temp], axis = 1)\n",
    "    start += 18\n",
    "data_train_trans = data_train_trans.iloc[:,1:]"
   ]
  },
  {
   "cell_type": "code",
   "execution_count": 11,
   "metadata": {},
   "outputs": [],
   "source": [
    "#test data的轉置\n",
    "data_test_trans = data_test.iloc[0:18,:]\n",
    "data_test_trans = data_test_trans.reset_index().drop(['index'],axis = 1)\n",
    "times = int(data_test.shape[0] / 18) - 1\n",
    "\n",
    "for i in range(times):\n",
    "    start = 18\n",
    "    data_temp = data_test.iloc[start:start + 18, 1:]\n",
    "    data_temp = data_temp.reset_index().drop(['index'],axis = 1)\n",
    "    data_test_trans = pd.concat([data_test_trans, data_temp], axis = 1)\n",
    "    start += 18\n",
    "data_test_trans = data_test_trans.iloc[:,1:]"
   ]
  },
  {
   "cell_type": "code",
   "execution_count": 12,
   "metadata": {},
   "outputs": [],
   "source": [
    "#第一種資料及 6小時\n",
    "first_x = []\n",
    "first_y = []\n",
    "first_test_x = []\n",
    "first_test_y = []\n",
    "\n",
    "for i in range(1458):\n",
    "    first_x.append(data_train_trans.iloc[:,i:i+6])\n",
    "    first_y.append(data_train_trans.iloc[:,i+6])\n",
    "    \n",
    "for i in range(738):\n",
    "    first_test_x.append(data_test_trans.iloc[:,i:i+6])\n",
    "    first_test_y.append(data_test_trans.iloc[:,i+6])\n",
    "\n",
    "#第二種資料及 11小時\n",
    "second_x = []\n",
    "second_y = []\n",
    "second_test_x = []\n",
    "second_test_y = []\n",
    "\n",
    "for i in range(1453):\n",
    "    second_x.append(data_train_trans.iloc[:,i:i+6])\n",
    "    second_y.append(data_train_trans.iloc[:,i+11])\n",
    "    \n",
    "for i in range(733):\n",
    "    second_test_x.append(data_test_trans.iloc[:,i:i+6])\n",
    "    second_test_y.append(data_test_trans.iloc[:,i+11])"
   ]
  },
  {
   "cell_type": "code",
   "execution_count": 13,
   "metadata": {},
   "outputs": [],
   "source": [
    "#預測未來6小時 只有pm2.5\n",
    "pm25_train_x_6 = []\n",
    "for i in range(len(first_x)):\n",
    "    pm25_train_x_6.append(first_x[i].iloc[9])\n",
    "    \n",
    "pm25_train_y_6 = []\n",
    "for i in range(len(first_y)):\n",
    "    pm25_train_y_6.append(first_y[i].iloc[9])\n",
    "    \n",
    "pm25_test_x_6 = []\n",
    "for i in range(len(first_test_x)):\n",
    "    pm25_test_x_6.append(first_test_x[i].iloc[9])\n",
    "    \n",
    "pm25_test_y_6 = []\n",
    "for i in range(len(first_test_y)):\n",
    "    pm25_test_y_6.append(first_test_y[i].iloc[9])\n",
    "    \n",
    "#----------------------------------------------------  \n",
    "#預測未來11小時 只有pm2.5\n",
    "\n",
    "pm25_train_x_11 = []\n",
    "for i in range(len(second_x)):\n",
    "    pm25_train_x_11.append(second_x[i].iloc[9])\n",
    "    \n",
    "pm25_train_y_11 = []\n",
    "for i in range(len(second_y)):\n",
    "    pm25_train_y_11.append(second_y[i].iloc[9])\n",
    "    \n",
    "pm25_test_x_11 = []\n",
    "for i in range(len(second_test_x)):\n",
    "    pm25_test_x_11.append(second_test_x[i].iloc[9])\n",
    "    \n",
    "pm25_test_y_11 = []\n",
    "for i in range(len(second_test_y)):\n",
    "    pm25_test_y_11.append(second_test_y[i].iloc[9])\n",
    "    \n",
    "#---------------------------------------------------- \n",
    "#預測未來6小時 18種屬性\n",
    "\n",
    "all_train_x_6 = []\n",
    "for i in range(len(first_x)):\n",
    "    for j in range(18):\n",
    "        all_train_x_6.append(first_x[i].iloc[j])\n",
    "        \n",
    "all_train_y_6 = []\n",
    "for i in range(len(first_y)):\n",
    "    for j in range(18):\n",
    "        all_train_y_6.append(first_y[i].iloc[j])\n",
    "    \n",
    "all_test_x_6 = []\n",
    "for i in range(len(first_test_x)):\n",
    "    for j in range(18):\n",
    "        all_test_x_6.append(first_test_x[i].iloc[j])\n",
    "    \n",
    "all_test_y_6 = []\n",
    "for i in range(len(first_test_y)):\n",
    "    for j in range(18):\n",
    "        all_test_y_6.append(first_test_y[i].iloc[j])\n",
    "        \n",
    "#----------------------------------------------------   \n",
    "#預測未來11小時 18種屬性\n",
    "\n",
    "all_train_x_11 = []\n",
    "for i in range(len(second_x)):\n",
    "    for j in range(18):\n",
    "        all_train_x_11.append(second_x[i].iloc[j])\n",
    "        \n",
    "all_train_y_11 = []\n",
    "for i in range(len(second_y)):\n",
    "    for j in range(18):\n",
    "        all_train_y_11.append(second_y[i].iloc[j])\n",
    "    \n",
    "all_test_x_11 = []\n",
    "for i in range(len(second_test_x)):\n",
    "    for j in range(18):\n",
    "        all_test_x_11.append(second_test_x[i].iloc[j])\n",
    "    \n",
    "all_test_y_11 = []\n",
    "for i in range(len(second_test_y)):\n",
    "    for j in range(18):\n",
    "        all_test_y_11.append(second_test_y[i].iloc[j])\n"
   ]
  },
  {
   "cell_type": "code",
   "execution_count": 14,
   "metadata": {},
   "outputs": [
    {
     "name": "stdout",
     "output_type": "stream",
     "text": [
      "predict the after sixth hours pm2.5 MAE (LinearRegression) :  3.7218509428225457\n"
     ]
    }
   ],
   "source": [
    "from sklearn.linear_model import LinearRegression\n",
    "reg = LinearRegression().fit(pm25_train_x_6, pm25_train_y_6)\n",
    "reg_pm25_predicted = reg.predict(pm25_test_x_6)\n",
    "reg_pm25_mae = np.mean(abs(reg_pm25_predicted - pm25_test_y_6))\n",
    "print(\"predict the after sixth hours pm2.5 MAE (LinearRegression) : \",reg_pm25_mae)"
   ]
  },
  {
   "cell_type": "code",
   "execution_count": 15,
   "metadata": {},
   "outputs": [
    {
     "name": "stdout",
     "output_type": "stream",
     "text": [
      "predict the after eleven hours pm2.5 MAE (LinearRegression) :  13.028377521578781\n"
     ]
    }
   ],
   "source": [
    "reg = LinearRegression().fit(pm25_train_x_11, pm25_train_y_11)\n",
    "reg_pm25_predicted = reg.predict(pm25_test_x_11)\n",
    "reg_pm25_mae = np.mean(abs(reg_pm25_predicted - pm25_test_y_11))\n",
    "print(\"predict the after eleven hours pm2.5 MAE (LinearRegression) : \",reg_pm25_mae)"
   ]
  },
  {
   "cell_type": "code",
   "execution_count": 16,
   "metadata": {},
   "outputs": [
    {
     "name": "stdout",
     "output_type": "stream",
     "text": [
      "predict the after sixth hours all attributes MAE (LinearRegression) :  1.7032120247145188\n"
     ]
    }
   ],
   "source": [
    "reg = LinearRegression().fit(all_train_x_6, all_train_y_6)\n",
    "reg_all_predicted = reg.predict(all_test_x_6)\n",
    "reg_all_mae = np.mean(abs(reg_all_predicted - all_test_y_6))\n",
    "print(\"predict the after sixth hours all attributes MAE (LinearRegression) : \",reg_all_mae)"
   ]
  },
  {
   "cell_type": "code",
   "execution_count": 17,
   "metadata": {},
   "outputs": [
    {
     "name": "stdout",
     "output_type": "stream",
     "text": [
      "predict the after eleven hours all attributes MAE (LinearRegression) :  3.142246215361692\n"
     ]
    }
   ],
   "source": [
    "reg = LinearRegression().fit(all_train_x_11, all_train_y_11)\n",
    "reg_all_predicted = reg.predict(all_test_x_11)\n",
    "reg_all_mae = np.mean(abs(reg_all_predicted - all_test_y_11))\n",
    "print(\"predict the after eleven hours all attributes MAE (LinearRegression) : \",reg_all_mae)"
   ]
  },
  {
   "cell_type": "code",
   "execution_count": 18,
   "metadata": {},
   "outputs": [
    {
     "name": "stderr",
     "output_type": "stream",
     "text": [
      "C:\\ProgramData\\Anaconda3\\lib\\site-packages\\xgboost\\sklearn.py:1224: UserWarning: The use of label encoder in XGBClassifier is deprecated and will be removed in a future release. To remove this warning, do the following: 1) Pass option use_label_encoder=False when constructing XGBClassifier object; and 2) Encode your labels (y) as integers starting with 0, i.e. 0, 1, 2, ..., [num_class - 1].\n",
      "  warnings.warn(label_encoder_deprecation_msg, UserWarning)\n"
     ]
    },
    {
     "name": "stdout",
     "output_type": "stream",
     "text": [
      "[11:20:01] WARNING: C:/Users/Administrator/workspace/xgboost-win64_release_1.5.0/src/learner.cc:1115: Starting in XGBoost 1.3.0, the default evaluation metric used with the objective 'multi:softprob' was changed from 'merror' to 'mlogloss'. Explicitly set eval_metric if you'd like to restore the old behavior.\n",
      "predict the after sixth hours pm2.5 MAE (XGboost):  3.484417344173442\n"
     ]
    }
   ],
   "source": [
    "from xgboost import XGBClassifier\n",
    "xgboostModel = XGBClassifier(n_estimators=100, learning_rate= 0.3)\n",
    "xgboostModel.fit(pm25_train_x_6, pm25_train_y_6)\n",
    "xgb_pm25_predicted = xgboostModel.predict(pm25_test_x_6)\n",
    "xgb_pm25_mae = np.mean(abs(xgb_pm25_predicted - pm25_test_y_6))\n",
    "print(\"predict the after sixth hours pm2.5 MAE (XGboost): \",xgb_pm25_mae)"
   ]
  },
  {
   "cell_type": "code",
   "execution_count": 19,
   "metadata": {},
   "outputs": [
    {
     "name": "stdout",
     "output_type": "stream",
     "text": [
      "[11:20:01] WARNING: C:/Users/Administrator/workspace/xgboost-win64_release_1.5.0/src/learner.cc:1115: Starting in XGBoost 1.3.0, the default evaluation metric used with the objective 'multi:softprob' was changed from 'merror' to 'mlogloss'. Explicitly set eval_metric if you'd like to restore the old behavior.\n",
      "predict the after eleven hours pm2.5 MAE (XGboost):  7.014324693042292\n"
     ]
    }
   ],
   "source": [
    "xgboostModel.fit(pm25_train_x_11, pm25_train_y_11)\n",
    "xgb_pm25_predicted = xgboostModel.predict(pm25_test_x_11)\n",
    "xgb_pm25_mae = np.mean(abs(xgb_pm25_predicted - pm25_test_y_11))\n",
    "print(\"predict the after eleven hours pm2.5 MAE (XGboost): \",xgb_pm25_mae)"
   ]
  },
  {
   "cell_type": "code",
   "execution_count": 20,
   "metadata": {},
   "outputs": [
    {
     "name": "stdout",
     "output_type": "stream",
     "text": [
      "[11:20:03] WARNING: C:/Users/Administrator/workspace/xgboost-win64_release_1.5.0/src/learner.cc:1115: Starting in XGBoost 1.3.0, the default evaluation metric used with the objective 'multi:softprob' was changed from 'merror' to 'mlogloss'. Explicitly set eval_metric if you'd like to restore the old behavior.\n",
      "predict the after sixth hours all attributes MAE (XGboost):  10.130837991192413\n"
     ]
    }
   ],
   "source": [
    "xgboostModel = XGBClassifier(n_estimators=100, learning_rate= 0.3)\n",
    "xgboostModel.fit(all_train_x_6, all_train_y_6)\n",
    "xgb_all_predicted = xgboostModel.predict(all_test_x_6)\n",
    "xgb_all_mae = np.mean(abs(xgb_all_predicted - all_test_y_6))\n",
    "print(\"predict the after sixth hours all attributes MAE (XGboost): \",xgb_all_mae)"
   ]
  },
  {
   "cell_type": "code",
   "execution_count": 21,
   "metadata": {},
   "outputs": [
    {
     "name": "stdout",
     "output_type": "stream",
     "text": [
      "[11:20:44] WARNING: C:/Users/Administrator/workspace/xgboost-win64_release_1.5.0/src/learner.cc:1115: Starting in XGBoost 1.3.0, the default evaluation metric used with the objective 'multi:softprob' was changed from 'merror' to 'mlogloss'. Explicitly set eval_metric if you'd like to restore the old behavior.\n",
      "predict the after eleven hours all attributes MAE (XGboost):  15.570065039032892\n"
     ]
    }
   ],
   "source": [
    "xgboostModel = XGBClassifier(n_estimators=100, learning_rate= 0.3)\n",
    "xgboostModel.fit(all_train_x_11, all_train_y_11)\n",
    "xgb_all_predicted = xgboostModel.predict(all_test_x_11)\n",
    "xgb_all_mae = np.mean(abs(xgb_all_predicted - all_test_y_11))\n",
    "print(\"predict the after eleven hours all attributes MAE (XGboost): \",xgb_all_mae)"
   ]
  }
 ],
 "metadata": {
  "kernelspec": {
   "display_name": "Python 3",
   "language": "python",
   "name": "python3"
  },
  "language_info": {
   "codemirror_mode": {
    "name": "ipython",
    "version": 3
   },
   "file_extension": ".py",
   "mimetype": "text/x-python",
   "name": "python",
   "nbconvert_exporter": "python",
   "pygments_lexer": "ipython3",
   "version": "3.8.8"
  }
 },
 "nbformat": 4,
 "nbformat_minor": 4
}
